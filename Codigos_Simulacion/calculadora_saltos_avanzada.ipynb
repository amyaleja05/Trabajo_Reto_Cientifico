{
 "cells": [
  {
   "cell_type": "markdown",
   "id": "fdaa28b3",
   "metadata": {},
   "source": [
    "# Calculadora Avanzada del Salto del Aro Desbalanceado 🔁🌀\n",
    "\n",
    "Este cuaderno calcula:\n",
    "- Si el aro puede saltar\n",
    "- Cuántas veces saltaría en un intervalo de tiempo\n",
    "- Qué tan alto saltaría\n",
    "- Una gráfica del movimiento vertical mostrando los saltos\n",
    "\n",
    "¡Solo modifica los parámetros iniciales y ejecuta las celdas!\n"
   ]
  },
  {
   "cell_type": "code",
   "execution_count": null,
   "id": "01a68ace",
   "metadata": {},
   "outputs": [],
   "source": [
    "# --- Parámetros ---\n",
    "R = 0.14       # Radio del aro (m)\n",
    "M = 0.124      # Masa del aro (kg)\n",
    "m = 0.050      # Masa desbalanceada (kg)\n",
    "f = 4          # Frecuencia de rotación estimada (Hz)\n",
    "g = 9.81       # Gravedad (m/s²)\n",
    "t_total = 2    # Tiempo total simulado (s)\n",
    "\n",
    "omega = 2 * 3.1416 * f  # Velocidad angular\n"
   ]
  },
  {
   "cell_type": "code",
   "execution_count": null,
   "id": "02c45d27",
   "metadata": {},
   "outputs": [],
   "source": [
    "# Condición de salto\n",
    "Fc = m * omega**2 * R\n",
    "peso_total = (M + m) * g\n",
    "print(f\"Fuerza centrífuga: {Fc:.2f} N\")\n",
    "print(f\"Peso total del sistema: {peso_total:.2f} N\")\n",
    "\n",
    "if Fc >= peso_total:\n",
    "    print(\"✅ El aro PUEDE saltar.\")\n",
    "    salto_posible = True\n",
    "    # Estimación de velocidad vertical y altura\n",
    "    v_salto = ((Fc - peso_total)/m)**0.5\n",
    "    h = v_salto**2 / (2 * g)\n",
    "    print(f\"Altura estimada del salto: {h:.4f} m\")\n",
    "    # Número de saltos en el tiempo dado\n",
    "    saltos = int(f * t_total)\n",
    "    print(f\"Número estimado de saltos en {t_total} s: {saltos}\")\n",
    "else:\n",
    "    print(\"❌ El aro NO puede saltar.\")\n",
    "    salto_posible = False\n",
    "    saltos = 0\n"
   ]
  },
  {
   "cell_type": "code",
   "execution_count": null,
   "id": "2034bc0b",
   "metadata": {},
   "outputs": [],
   "source": [
    "import numpy as np\n",
    "import matplotlib.pyplot as plt\n",
    "\n",
    "t = np.linspace(0, t_total, 500)\n",
    "y = 0.045 * np.sin(omega * t)  # Oscilación natural\n",
    "\n",
    "if salto_posible:\n",
    "    # Añade efecto de salto visible como incremento de altura\n",
    "    y += 0.02 * (np.sin(2 * np.pi * f * t))**2\n",
    "\n",
    "plt.figure(figsize=(10, 4))\n",
    "plt.plot(t, y, label='Movimiento vertical de la masa', color='blue')\n",
    "plt.axhline(0, color='gray', linestyle='--')\n",
    "plt.title('Simulación del movimiento vertical con posibles saltos')\n",
    "plt.xlabel('Tiempo (s)')\n",
    "plt.ylabel('Altura (m)')\n",
    "plt.grid(True)\n",
    "plt.legend()\n",
    "plt.show()\n"
   ]
  }
 ],
 "metadata": {},
 "nbformat": 4,
 "nbformat_minor": 5
}
