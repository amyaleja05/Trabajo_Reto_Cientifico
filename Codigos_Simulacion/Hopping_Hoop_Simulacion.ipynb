{
  "cells": [
    {
      "cell_type": "markdown",
      "metadata": {
        "id": "iq_yZ7a96OEU"
      },
      "source": [
        "# 🧪 Simulación del experimento *Hopping Hoop*\n",
        "Este cuaderno fue creado para analizar y simular el experimento del aro saltarín (*Hopping Hoop*), basado en la adición de masas extra a un disco que rueda sobre una superficie.\n",
        "**Fecha de creación:** 2025-06-05\n",
        "---"
      ]
    },
    {
      "cell_type": "markdown",
      "metadata": {
        "id": "5_gC9M3H6OEV"
      },
      "source": [
        "## 🎯 Objetivo del experimento\n",
        "- Analizar los saltos de un aro al que se le añade una masa extra.\n",
        "- Predecir el número de saltos según la masa colocada.\n",
        "- Determinar los rangos críticos de masa para obtener 0, 1, 2 o más saltos.\n",
        "\n",
        "### 📐 Parámetros conocidos\n",
        "- Masa del aro: `0.124 kg`\n",
        "- Radio del aro: `0.14 m`\n",
        "- Masa de salto 1: `0.051 kg`\n",
        "- Masa de salto 2: `0.066 kg`"
      ]
    },
    {
      "cell_type": "code",
      "execution_count": null,
      "metadata": {
        "id": "yh0cbp_T6OEV"
      },
      "outputs": [],
      "source": [
        "# 🔍 Simulación de saltos basada en masa añadida\n",
        "def hopping_hoop_jumps(m_extra):\n",
        "    min_salto_1 = 0.051\n",
        "    max_salto_1 = 0.058\n",
        "    min_salto_2 = 0.059\n",
        "    max_salto_2 = 0.074\n",
        "    min_salto_3 = 0.075\n",
        "    max_salto_3 = 0.09\n",
        "\n",
        "    if m_extra < min_salto_1:\n",
        "        return 0, f\"❌ Masa insuficiente (< {min_salto_1:.3f} kg) para salto\"\n",
        "    elif min_salto_1 <= m_extra <= max_salto_1:\n",
        "        return 1, f\"✅ 1 salto: entre {min_salto_1:.3f} kg y {max_salto_1:.3f} kg\"\n",
        "    elif min_salto_2 <= m_extra <= max_salto_2:\n",
        "        return 2, f\"✅✅ 2 saltos: entre {min_salto_2:.3f} kg y {max_salto_2:.3f} kg\"\n",
        "    elif min_salto_3 <= m_extra <= max_salto_3:\n",
        "        return 3, f\"⚠️ 3 saltos posibles (experimental extremo): {min_salto_3:.3f} kg a {max_salto_3:.3f} kg\"\n",
        "    else:\n",
        "        return 0, f\"❌ Masa excesiva (> {max_salto_3:.3f} kg); no hay salto o se colapsa el sistema\""
      ]
    },
    {
      "cell_type": "code",
      "execution_count": null,
      "metadata": {
        "id": "2ssQWZuQ6OEV"
      },
      "outputs": [],
      "source": [
        "# ⚙️ Ejecuta la simulación ingresando la masa adicional en kg\n",
        "masa_adicional = float(input(\"🔢 Ingresa la masa adicional (kg): \"))\n",
        "saltos, info = hopping_hoop_jumps(masa_adicional)\n",
        "print(f\"\\n🎬 Resultado: {saltos} salto(s)\")\n",
        "print(f\"📌 Info: {info}\")"
      ]
    },
    {
      "cell_type": "markdown",
      "metadata": {
        "id": "rxNdOVEi6OEW"
      },
      "source": [
        "## 📎 (Opcional) Subida y lectura de archivos `.trk`\n",
        "Puedes expandir este cuaderno para subir tu archivo experimental generado por Tracker y analizarlo.\n",
        "Aquí te dejamos la celda básica para subir el archivo:"
      ]
    },
    {
      "cell_type": "code",
      "execution_count": null,
      "metadata": {
        "id": "V_IDi4Lv6OEW"
      },
      "outputs": [],
      "source": [
        "from google.colab import files\n",
        "uploaded = files.upload()\n",
        "\n",
        "# Luego podrías usar ElementTree para parsear tu archivo .trk si es necesario."
      ]
    }
  ],
  "metadata": {
    "kernelspec": {
      "display_name": "Python 3",
      "language": "python",
      "name": "python3"
    },
    "language_info": {
      "name": "python",
      "version": "3.10"
    },
    "colab": {
      "provenance": []
    }
  },
  "nbformat": 4,
  "nbformat_minor": 0
}